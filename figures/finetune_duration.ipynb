{
 "cells": [
  {
   "cell_type": "code",
   "execution_count": 2,
   "id": "ff06463d-5f46-4556-b0fb-de4bb967954a",
   "metadata": {},
   "outputs": [],
   "source": [
    "import torch\n",
    "import numpy as np\n",
    "import matplotlib.pyplot as plt\n",
    "import pandas as pd\n",
    "\n",
    "# Colors\n",
    "light_ioite = \"#8462FF\"\n",
    "ioite = \"#6236FF\"\n",
    "dark_ioite = \"#5329E6\"\n",
    "very_dark_ioite = \"#3F21A8\"\n",
    "apatite = \"#32C5FF\"\n",
    "ruby = \"#E02020\"\n",
    "amazonite = \"#44D7B6\"\n",
    "dark_amazonite = \"#339C84\"\n",
    "very_dark_amazonite = \"#0A5544\"\n",
    "amber = \"#FA6400\"\n",
    "citrine = \"#F7B500\"\n",
    "saphire = \"#0091FF\"\n",
    "pink = \"#D40272\"\n",
    "graphite=\"#6D7278\"\n",
    "lightgrey = \"#D8D8D8\""
   ]
  },
  {
   "cell_type": "code",
   "execution_count": 3,
   "id": "bc71661f-6700-48d9-9547-52e0c2e1c7fe",
   "metadata": {},
   "outputs": [],
   "source": [
    "data = np.array([\n",
    "#     [0, 24.0],\n",
    "    [1, 90.52],\n",
    "    [3, 91.81],\n",
    "    [5, 92.59],\n",
    "    [10, 93.24],\n",
    "    [15, 93.57],\n",
    "    [20, 93.76],\n",
    "    [30, 93.81],\n",
    "])"
   ]
  },
  {
   "cell_type": "code",
   "execution_count": 4,
   "id": "f44bee11-350f-483c-b2fd-6d0522a7a722",
   "metadata": {},
   "outputs": [
    {
     "data": {
      "image/png": "[encoded data removed]",
      "text/plain": [
       "<Figure size 432x144 with 1 Axes>"
      ]
     },
     "metadata": {
      "needs_background": "light"
     },
     "output_type": "display_data"
    }
   ],
   "source": [
    "fig, ax = plt.subplots(constrained_layout=False)\n",
    "fig.set_size_inches(6,2)\n",
    "ax.plot(data[:,0], data[:,1], c=ioite, marker=\"o\", linestyle=\":\")\n",
    "\n",
    "ax.set_ylabel('Top-1 accuracy (%)')\n",
    "ax.set_xlabel('Epochs') #◆\n",
    "\n",
    "# plt.ylim([90, 94])\n",
    "plt.grid(linestyle='dotted')\n",
    "plt.show()"
   ]
  },
  {
   "cell_type": "code",
   "execution_count": 5,
   "id": "9eafde18-11f0-41ba-88c5-5016b2aab1fb",
   "metadata": {},
   "outputs": [],
   "source": [
    "fig.savefig(\"ft-epochs.pdf\")"
   ]
  },
  {
   "cell_type": "code",
   "execution_count": null,
   "id": "7f96f9e1-a2f5-43d7-a5f6-f5861f15aa25",
   "metadata": {},
   "outputs": [],
   "source": []
  }
 ],
 "metadata": {
  "kernelspec": {
   "display_name": "Python 3",
   "language": "python",
   "name": "python3"
  },
  "language_info": {
   "codemirror_mode": {
    "name": "ipython",
    "version": 3
   },
   "file_extension": ".py",
   "mimetype": "text/x-python",
   "name": "python",
   "nbconvert_exporter": "python",
   "pygments_lexer": "ipython3",
   "version": "3.8.8"
  }
 },
 "nbformat": 4,
 "nbformat_minor": 5
}
