{
 "cells": [
  {
   "cell_type": "code",
   "execution_count": 33,
   "id": "6a4a9d83-2093-4087-8017-9f945aa1f272",
   "metadata": {},
   "outputs": [],
   "source": [
    "import torch\n",
    "import numpy as np\n",
    "import matplotlib.pyplot as plt\n",
    "import pandas as pd\n",
    "\n",
    "# Colors\n",
    "light_ioite = \"#8462FF\"\n",
    "ioite = \"#6236FF\"\n",
    "dark_ioite = \"#5329E6\"\n",
    "very_dark_ioite = \"#3F21A8\"\n",
    "apatite = \"#32C5FF\"\n",
    "ruby = \"#E02020\"\n",
    "light_ruby = \"#FF6868\"\n",
    "amazonite = \"#44D7B6\"\n",
    "dark_amazonite = \"#339C84\"\n",
    "very_dark_amazonite = \"#0A5544\"\n",
    "amber = \"#FA6400\"\n",
    "dark_amber = \"#CE5300\"\n",
    "very_dark_amber = \"#A74300\"\n",
    "citrine = \"#F7B500\"\n",
    "saphire = \"#0091FF\"\n",
    "dark_saphire = \"#006FC3\"\n",
    "pink = \"#D40272\"\n",
    "graphite=\"#6D7278\"\n",
    "lightgrey = \"#D8D8D8\"\n",
    "amethyst = \"#B620E0\"\n",
    "light_amethyst = \"#E17BFD\""
   ]
  },
  {
   "cell_type": "code",
   "execution_count": 151,
   "id": "a5eeced5-810f-471a-af2d-95e1b455dccf",
   "metadata": {},
   "outputs": [],
   "source": [
    "# Data\n",
    "\n",
    "df = pd.DataFrame(\n",
    "    columns=[\n",
    "        \"name\", \"xsub\", \"xview\", \"flops\", \"streams\", \"marker\", \"fill\", \"colour\"\n",
    "    ],\n",
    "    data = [\n",
    "        (\"CoST-GCN-s1\",86.8, 93.4,  0.16, 1, \"o\", \"none\", saphire),\n",
    "        (\"CoST-GCN\",   86.0, 93.4,  0.27, 1, \"o\", \"full\", saphire),\n",
    "        (\"ST-GCN-s1\",  87.2, 93.6, 36.90, 1, \"s\", \"none\", saphire),\n",
    "        (\"ST-GCN\",     86.0, 93.4, 16.73, 1, \"s\", \"full\", saphire),\n",
    "        (\"CoAGCN-s1\",  84.1, 92.2,  0.17, 1, \"o\", \"none\", dark_amazonite),\n",
    "        (\"CoAGCN\",     86.4, 94.2,  0.30, 1, \"o\", \"full\", dark_amazonite),\n",
    "        (\"AGCN-s1\",    84.1, 92.2, 40.87, 1, \"s\", \"none\", dark_amazonite),\n",
    "        (\"AGCN\",       86.4, 94.3, 18.69, 1, \"s\", \"full\", dark_amazonite),\n",
    "        (\"CoS-TR-s1\",  86.3, 92.4,  0.15, 1, \"o\", \"none\", ioite),\n",
    "        (\"CoS-TR\",     86.8, 93.8,  0.22, 1, \"o\", \"full\", ioite),\n",
    "        (\"S-TR-s1\",    86.3, 92.4, 35.65, 1, \"s\", \"none\", ioite),\n",
    "        (\"S-TR\",       86.6, 93.8, 16.14, 1, \"s\", \"full\", ioite),\n",
    "        (\"Shift-GCN\",  87.8, 95.1,   2.5, 1, \"s\", \"full\", citrine),\n",
    "        (\"Shift-GCN\",  89.7, 96.0,   5.0, 2, \"s\", \"full\", citrine),\n",
    "        (\"AS-GCN\",     86.8, 94.2,  27.0, 1, \"s\", \"full\", light_ruby),\n",
    "        (\"AGC-LSTM\",   89.2, 95.0,  54.4, 2, \"s\", \"full\", amber),\n",
    "        (\"DGNN\",       89.9, 96.1, 126.8, 4, \"s\", \"full\", ruby),\n",
    "    ]\n",
    ")\n",
    "df[\"flops\"] = 1e9 * df[\"flops\"]"
   ]
  },
  {
   "cell_type": "code",
   "execution_count": 166,
   "id": "89aab4d0-4bf0-48cc-ad02-41d8f61a9d12",
   "metadata": {},
   "outputs": [
    {
     "data": {
      "image/png": "[encoded data removed]",
      "text/plain": [
       "<Figure size 432x288 with 1 Axes>"
      ]
     },
     "metadata": {
      "needs_background": "light"
     },
     "output_type": "display_data"
    }
   ],
   "source": [
    "# Plot\n",
    "fig, ax = plt.subplots(constrained_layout=False)\n",
    "# fig.set_size_inches(10,8)\n",
    "\n",
    "# Params\n",
    "markersize = 10\n",
    "textsize = 7\n",
    "\n",
    "for index, row in df.iterrows():\n",
    "    acc = row[\"xview\"]\n",
    "    ax.plot(\n",
    "        row[\"flops\"], \n",
    "        acc, \n",
    "        c=row[\"colour\"], \n",
    "        label=row[\"name\"],\n",
    "        marker=row[\"marker\"],\n",
    "        fillstyle=row[\"fill\"],\n",
    "        linestyle=\" \",\n",
    "        markersize=markersize,\n",
    "    )\n",
    "    \n",
    "    ax.annotate(\n",
    "        row[\"streams\"], \n",
    "        xy=(row[\"flops\"], acc),\n",
    "        xytext=(row[\"flops\"], acc),\n",
    "        ha='center',\n",
    "        va='center',\n",
    "        size=textsize,\n",
    "        color=\"white\" if row[\"fill\"] != \"none\" else \"black\"\n",
    "    )\n",
    "    \n",
    "ax.set_ylabel('Top-1 accuracy (%)')\n",
    "ax.set_xlabel('FLOPs / prediction') \n",
    "# ax.set_xlabel('FLOPs per clip ■') \n",
    "# secax = ax.secondary_xaxis('top')\n",
    "# secax.set_xlabel('FLOPs per frame ●')\n",
    "\n",
    "\n",
    "# General setup\n",
    "\n",
    "handles, labels = plt.gca().get_legend_handles_labels()\n",
    "by_label = dict(zip(labels, handles)) # Remove repeat entries\n",
    "\n",
    "legend = plt.legend(\n",
    "    by_label.values(),\n",
    "    by_label.keys(),\n",
    "    loc=\"lower center\", \n",
    "    framealpha=1.0, \n",
    "    borderpad=0.5, \n",
    "    markerscale=0.6,\n",
    "    scatterpoints=1, \n",
    "    ncol=4,\n",
    "    columnspacing=0.5,\n",
    "    labelspacing=0.2,\n",
    "    handletextpad=0.2,\n",
    "    prop={'size': markersize-2},\n",
    "    bbox_to_anchor=[0.0,0.04,1,1]\n",
    ") \n",
    "\n",
    "ax.set_xscale('log'); \n",
    "# plt.xlim([1e8, 1e13])\n",
    "plt.ylim([89, 97])\n",
    "# plt.ylim([80, 91])\n",
    "plt.grid(linestyle='dotted')\n",
    "plt.show()"
   ]
  },
  {
   "cell_type": "code",
   "execution_count": 167,
   "id": "8dda98a6-97b2-4f5a-a7ee-2242e98f9198",
   "metadata": {},
   "outputs": [],
   "source": [
    "fig.savefig(\"xview-acc-vs-flops-log.pdf\")"
   ]
  },
  {
   "cell_type": "code",
   "execution_count": null,
   "id": "f3084f30-0395-403a-b0aa-5e42a62d42fa",
   "metadata": {},
   "outputs": [],
   "source": []
  }
 ],
 "metadata": {
  "kernelspec": {
   "display_name": "Python 3",
   "language": "python",
   "name": "python3"
  },
  "language_info": {
   "codemirror_mode": {
    "name": "ipython",
    "version": 3
   },
   "file_extension": ".py",
   "mimetype": "text/x-python",
   "name": "python",
   "nbconvert_exporter": "python",
   "pygments_lexer": "ipython3",
   "version": "3.8.8"
  }
 },
 "nbformat": 4,
 "nbformat_minor": 5
}
